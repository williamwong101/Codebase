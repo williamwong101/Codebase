{
 "cells": [
  {
   "cell_type": "code",
   "execution_count": 3,
   "id": "c05c2bbc",
   "metadata": {
    "ExecuteTime": {
     "end_time": "2021-04-14T05:16:46.231451Z",
     "start_time": "2021-04-14T05:16:45.456877Z"
    }
   },
   "outputs": [],
   "source": [
    "import matplotlib.pyplot as plt\n",
    "import numpy as np"
   ]
  },
  {
   "cell_type": "markdown",
   "id": "a9a9dc09",
   "metadata": {
    "ExecuteTime": {
     "end_time": "2021-04-14T05:25:28.009292Z",
     "start_time": "2021-04-14T05:25:28.005854Z"
    }
   },
   "source": [
    "## Simple Example"
   ]
  },
  {
   "cell_type": "code",
   "execution_count": 18,
   "id": "acc6558a",
   "metadata": {
    "ExecuteTime": {
     "end_time": "2021-04-14T05:22:58.749177Z",
     "start_time": "2021-04-14T05:22:58.642736Z"
    }
   },
   "outputs": [
    {
     "data": {
      "text/plain": [
       "[<matplotlib.lines.Line2D at 0x7fd639998a30>]"
      ]
     },
     "execution_count": 18,
     "metadata": {},
     "output_type": "execute_result"
    },
    {
     "data": {
      "image/png": "[encoded data removed]",
      "text/plain": [
       "<Figure size 432x288 with 1 Axes>"
      ]
     },
     "metadata": {
      "needs_background": "light"
     },
     "output_type": "display_data"
    }
   ],
   "source": [
    "x = np.linspace(1,100,10)\n",
    "y = np.arange(10)*np.random.rand(10)\n",
    "\n",
    "plt.plot(x, y)"
   ]
  },
  {
   "cell_type": "markdown",
   "id": "2cf0ca9b",
   "metadata": {
    "ExecuteTime": {
     "end_time": "2021-04-14T05:27:42.431432Z",
     "start_time": "2021-04-14T05:27:42.427889Z"
    }
   },
   "source": [
    "## Data structures\n",
    "- **Figure**\n",
    "    - The big canvas, contain at least one Axes\n",
    "- **Axes**\n",
    "    - The 'plot', can be in only one Figure\n",
    "- **Axis**\n",
    "    - Number-line-like objects, take care of setting the graph limits and generating the ticks"
   ]
  },
  {
   "cell_type": "code",
   "execution_count": null,
   "id": "884c53c1",
   "metadata": {},
   "outputs": [],
   "source": []
  }
 ],
 "metadata": {
  "kernelspec": {
   "display_name": "Python 3",
   "language": "python",
   "name": "python3"
  },
  "language_info": {
   "codemirror_mode": {
    "name": "ipython",
    "version": 3
   },
   "file_extension": ".py",
   "mimetype": "text/x-python",
   "name": "python",
   "nbconvert_exporter": "python",
   "pygments_lexer": "ipython3",
   "version": "3.9.1"
  },
  "toc": {
   "base_numbering": 1,
   "nav_menu": {},
   "number_sections": true,
   "sideBar": true,
   "skip_h1_title": false,
   "title_cell": "Table of Contents",
   "title_sidebar": "Contents",
   "toc_cell": false,
   "toc_position": {},
   "toc_section_display": true,
   "toc_window_display": true
  },
  "varInspector": {
   "cols": {
    "lenName": 16,
    "lenType": 16,
    "lenVar": 40
   },
   "kernels_config": {
    "python": {
     "delete_cmd_postfix": "",
     "delete_cmd_prefix": "del ",
     "library": "var_list.py",
     "varRefreshCmd": "print(var_dic_list())"
    },
    "r": {
     "delete_cmd_postfix": ") ",
     "delete_cmd_prefix": "rm(",
     "library": "var_list.r",
     "varRefreshCmd": "cat(var_dic_list()) "
    }
   },
   "types_to_exclude": [
    "module",
    "function",
    "builtin_function_or_method",
    "instance",
    "_Feature"
   ],
   "window_display": false
  }
 },
 "nbformat": 4,
 "nbformat_minor": 5
}
